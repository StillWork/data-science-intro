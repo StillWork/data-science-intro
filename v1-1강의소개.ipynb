{
 "cells": [
  {
   "cell_type": "markdown",
   "metadata": {},
   "source": [
    "## 강의자료 구성\n",
    "\n",
    "- v1. 강의소개, 파이선, 쥬피터,수학통계\n",
    "- v2. 데이터전처리, 시각화, EDA\n",
    "- v3. 기계학습: 지도학습, 회귀분석, 로지스틱리그레션, 의사결정나무, 랜덤포레스트, SVM, 베이시안\n",
    "    비지도 학습, 클러스터링, 데이터변환, PCA\n",
    "- v4. 텍스트처리\n",
    "- v5. 딥러닝소개\n",
    "- v6. CNN, 이미지분석 \n",
    "- v7. RNN, 자연어처리\n",
    "- v8. 응용 사례"
   ]
  },
  {
   "cell_type": "markdown",
   "metadata": {
    "collapsed": true
   },
   "source": [
    "### 참고서(파이선으로 배우는 머신러닝)\n",
    "\n",
    "<img src=\"https://www.dropbox.com/s/qv9izj96i7i8fzp/textbook1.png?raw=1\", width=380, align=left>"
   ]
  },
  {
   "cell_type": "markdown",
   "metadata": {},
   "source": [
    "### 강의내용 (v1:  데이터 사이언스 기초)\n",
    "- 데이터사이언스 개요(pdf)     https://goo.gl/rLMqsc\n",
    "- 파이선 설치(아나콘다)\n",
    "- 쥬피터 사용법\n",
    "- 파이선 문법(점프투파이선 사이트: https://wikidocs.net/book/1)"
   ]
  },
  {
   "cell_type": "markdown",
   "metadata": {},
   "source": [
    "### 쥬피터에서 소스코드 다운로드 방법\n",
    "\n",
    "!git clone \"https://github.com/StillWork/data-science-intro.git\""
   ]
  },
  {
   "cell_type": "markdown",
   "metadata": {},
   "source": [
    "### 실습서버 사용법\n",
    "\n",
    "- 실습사이트(1) https://210.115.49.252:9999 \n",
    "- (비번 s6413, 자신의 이름으로 파일 또는 디렉토리 생성)\n",
    "- 신규 실습사이트(2) : https://210.115.49.162:8000 (계정 st01 / bigdatast01)\n"
   ]
  },
  {
   "cell_type": "code",
   "execution_count": null,
   "metadata": {},
   "outputs": [],
   "source": []
  }
 ],
 "metadata": {
  "kernelspec": {
   "display_name": "Python 3",
   "language": "python",
   "name": "python3"
  },
  "language_info": {
   "codemirror_mode": {
    "name": "ipython",
    "version": 3
   },
   "file_extension": ".py",
   "mimetype": "text/x-python",
   "name": "python",
   "nbconvert_exporter": "python",
   "pygments_lexer": "ipython3",
   "version": "3.5.3"
  }
 },
 "nbformat": 4,
 "nbformat_minor": 2
}
